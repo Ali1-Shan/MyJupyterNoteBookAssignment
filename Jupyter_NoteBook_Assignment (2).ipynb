{
 "cells": [
  {
   "cell_type": "markdown",
   "id": "8ee8ba11-c9c8-4aef-8632-a796eb167998",
   "metadata": {},
   "source": [
    "# **My** **Jupyter** **Notebook** **on** **Ibm** **Watson** **Studio**"
   ]
  },
  {
   "cell_type": "markdown",
   "id": "b8d49912-6970-4161-a450-649db2d92804",
   "metadata": {},
   "source": [
    "**Ali Shan**<br>\n",
    "Data Scientist"
   ]
  },
  {
   "cell_type": "markdown",
   "id": "fd5e3a5a-95f9-467f-9472-c5bf20b6b70a",
   "metadata": {},
   "source": [
    "*I am interested in data science because  of my passion , I want to find hidden stories behind data which stay unheard*"
   ]
  },
  {
   "cell_type": "markdown",
   "id": "0e7c788d-ac2b-46e3-9766-9d2d7841d2b3",
   "metadata": {},
   "source": [
    "### The below should print \"Hello World\""
   ]
  },
  {
   "cell_type": "code",
   "execution_count": 4,
   "id": "6981a266-f698-47b1-a22a-f3cd0a293257",
   "metadata": {},
   "outputs": [
    {
     "name": "stdout",
     "output_type": "stream",
     "text": [
      "Hello World!\n"
     ]
    }
   ],
   "source": [
    "print(\"Hello World!\")"
   ]
  },
  {
   "cell_type": "code",
   "execution_count": null,
   "id": "1538ae7e-2d71-4f2e-b4ac-38c83b14a7ce",
   "metadata": {},
   "outputs": [],
   "source": [
    "---This was really\n",
    "1. Easier\n",
    "2. clear\n",
    "3. Simple\n"
   ]
  }
 ],
 "metadata": {
  "kernelspec": {
   "display_name": "Python",
   "language": "python",
   "name": "conda-env-python-py"
  },
  "language_info": {
   "codemirror_mode": {
    "name": "ipython",
    "version": 3
   },
   "file_extension": ".py",
   "mimetype": "text/x-python",
   "name": "python",
   "nbconvert_exporter": "python",
   "pygments_lexer": "ipython3",
   "version": "3.7.12"
  }
 },
 "nbformat": 4,
 "nbformat_minor": 5
}
